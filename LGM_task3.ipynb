{
 "cells": [
  {
   "cell_type": "code",
   "execution_count": null,
   "metadata": {
    "id": "JwViBdjxsUeH",
    "outputId": "dbb2eefc-ed57-4a3d-87ee-14e72c2a4271"
   },
   "outputs": [
    {
     "name": "stderr",
     "output_type": "stream",
     "text": [
      "Using TensorFlow backend.\n"
     ]
    }
   ],
   "source": [
    "import numpy as np\n",
    "import pandas as pd\n",
    "import os\n",
    "import matplotlib.pyplot as plt\n",
    "from keras.models import Sequential\n",
    "from keras.layers import Convolution2D,Dense,Flatten,MaxPooling2D,BatchNormalization,Dropout\n",
    "from keras.utils import to_categorical\n",
    "from keras.utils.vis_utils import plot_model\n",
    "%matplotlib inline"
   ]
  },
  {
   "cell_type": "markdown",
   "metadata": {
    "id": "5ATArvK4sUeM"
   },
   "source": [
    "**Reading the training dataset from CSV file and displaying it.**"
   ]
  },
  {
   "cell_type": "code",
   "execution_count": null,
   "metadata": {
    "_cell_guid": "79c7e3d0-c299-4dcb-8224-4455121ee9b0",
    "_uuid": "d629ff2d2480ee46fbb7e2d37f6b5fab8052498a",
    "id": "P_xBDBqRsUeN"
   },
   "outputs": [],
   "source": [
    "df = pd.read_csv('/content/train.csv')"
   ]
  },
  {
   "cell_type": "code",
   "execution_count": null,
   "metadata": {
    "id": "AM7SHCrKsUeP",
    "outputId": "b0867c61-bc9c-4627-cfa1-94820ad89131"
   },
   "outputs": [
    {
     "data": {
      "text/html": [
       "<div>\n",
       "<style scoped>\n",
       "    .dataframe tbody tr th:only-of-type {\n",
       "        vertical-align: middle;\n",
       "    }\n",
       "\n",
       "    .dataframe tbody tr th {\n",
       "        vertical-align: top;\n",
       "    }\n",
       "\n",
       "    .dataframe thead th {\n",
       "        text-align: right;\n",
       "    }\n",
       "</style>\n",
       "<table border=\"1\" class=\"dataframe\">\n",
       "  <thead>\n",
       "    <tr style=\"text-align: right;\">\n",
       "      <th></th>\n",
       "      <th>label</th>\n",
       "      <th>pixel0</th>\n",
       "      <th>pixel1</th>\n",
       "      <th>pixel2</th>\n",
       "      <th>pixel3</th>\n",
       "      <th>pixel4</th>\n",
       "      <th>pixel5</th>\n",
       "      <th>pixel6</th>\n",
       "      <th>pixel7</th>\n",
       "      <th>pixel8</th>\n",
       "      <th>...</th>\n",
       "      <th>pixel774</th>\n",
       "      <th>pixel775</th>\n",
       "      <th>pixel776</th>\n",
       "      <th>pixel777</th>\n",
       "      <th>pixel778</th>\n",
       "      <th>pixel779</th>\n",
       "      <th>pixel780</th>\n",
       "      <th>pixel781</th>\n",
       "      <th>pixel782</th>\n",
       "      <th>pixel783</th>\n",
       "    </tr>\n",
       "  </thead>\n",
       "  <tbody>\n",
       "    <tr>\n",
       "      <th>0</th>\n",
       "      <td>1</td>\n",
       "      <td>0</td>\n",
       "      <td>0</td>\n",
       "      <td>0</td>\n",
       "      <td>0</td>\n",
       "      <td>0</td>\n",
       "      <td>0</td>\n",
       "      <td>0</td>\n",
       "      <td>0</td>\n",
       "      <td>0</td>\n",
       "      <td>...</td>\n",
       "      <td>0</td>\n",
       "      <td>0</td>\n",
       "      <td>0</td>\n",
       "      <td>0</td>\n",
       "      <td>0</td>\n",
       "      <td>0</td>\n",
       "      <td>0</td>\n",
       "      <td>0</td>\n",
       "      <td>0</td>\n",
       "      <td>0</td>\n",
       "    </tr>\n",
       "    <tr>\n",
       "      <th>1</th>\n",
       "      <td>0</td>\n",
       "      <td>0</td>\n",
       "      <td>0</td>\n",
       "      <td>0</td>\n",
       "      <td>0</td>\n",
       "      <td>0</td>\n",
       "      <td>0</td>\n",
       "      <td>0</td>\n",
       "      <td>0</td>\n",
       "      <td>0</td>\n",
       "      <td>...</td>\n",
       "      <td>0</td>\n",
       "      <td>0</td>\n",
       "      <td>0</td>\n",
       "      <td>0</td>\n",
       "      <td>0</td>\n",
       "      <td>0</td>\n",
       "      <td>0</td>\n",
       "      <td>0</td>\n",
       "      <td>0</td>\n",
       "      <td>0</td>\n",
       "    </tr>\n",
       "    <tr>\n",
       "      <th>2</th>\n",
       "      <td>1</td>\n",
       "      <td>0</td>\n",
       "      <td>0</td>\n",
       "      <td>0</td>\n",
       "      <td>0</td>\n",
       "      <td>0</td>\n",
       "      <td>0</td>\n",
       "      <td>0</td>\n",
       "      <td>0</td>\n",
       "      <td>0</td>\n",
       "      <td>...</td>\n",
       "      <td>0</td>\n",
       "      <td>0</td>\n",
       "      <td>0</td>\n",
       "      <td>0</td>\n",
       "      <td>0</td>\n",
       "      <td>0</td>\n",
       "      <td>0</td>\n",
       "      <td>0</td>\n",
       "      <td>0</td>\n",
       "      <td>0</td>\n",
       "    </tr>\n",
       "    <tr>\n",
       "      <th>3</th>\n",
       "      <td>4</td>\n",
       "      <td>0</td>\n",
       "      <td>0</td>\n",
       "      <td>0</td>\n",
       "      <td>0</td>\n",
       "      <td>0</td>\n",
       "      <td>0</td>\n",
       "      <td>0</td>\n",
       "      <td>0</td>\n",
       "      <td>0</td>\n",
       "      <td>...</td>\n",
       "      <td>0</td>\n",
       "      <td>0</td>\n",
       "      <td>0</td>\n",
       "      <td>0</td>\n",
       "      <td>0</td>\n",
       "      <td>0</td>\n",
       "      <td>0</td>\n",
       "      <td>0</td>\n",
       "      <td>0</td>\n",
       "      <td>0</td>\n",
       "    </tr>\n",
       "    <tr>\n",
       "      <th>4</th>\n",
       "      <td>0</td>\n",
       "      <td>0</td>\n",
       "      <td>0</td>\n",
       "      <td>0</td>\n",
       "      <td>0</td>\n",
       "      <td>0</td>\n",
       "      <td>0</td>\n",
       "      <td>0</td>\n",
       "      <td>0</td>\n",
       "      <td>0</td>\n",
       "      <td>...</td>\n",
       "      <td>0</td>\n",
       "      <td>0</td>\n",
       "      <td>0</td>\n",
       "      <td>0</td>\n",
       "      <td>0</td>\n",
       "      <td>0</td>\n",
       "      <td>0</td>\n",
       "      <td>0</td>\n",
       "      <td>0</td>\n",
       "      <td>0</td>\n",
       "    </tr>\n",
       "  </tbody>\n",
       "</table>\n",
       "<p>5 rows × 785 columns</p>\n",
       "</div>"
      ],
      "text/plain": [
       "   label  pixel0  pixel1  pixel2  pixel3  pixel4  pixel5  pixel6  pixel7  \\\n",
       "0      1       0       0       0       0       0       0       0       0   \n",
       "1      0       0       0       0       0       0       0       0       0   \n",
       "2      1       0       0       0       0       0       0       0       0   \n",
       "3      4       0       0       0       0       0       0       0       0   \n",
       "4      0       0       0       0       0       0       0       0       0   \n",
       "\n",
       "   pixel8    ...     pixel774  pixel775  pixel776  pixel777  pixel778  \\\n",
       "0       0    ...            0         0         0         0         0   \n",
       "1       0    ...            0         0         0         0         0   \n",
       "2       0    ...            0         0         0         0         0   \n",
       "3       0    ...            0         0         0         0         0   \n",
       "4       0    ...            0         0         0         0         0   \n",
       "\n",
       "   pixel779  pixel780  pixel781  pixel782  pixel783  \n",
       "0         0         0         0         0         0  \n",
       "1         0         0         0         0         0  \n",
       "2         0         0         0         0         0  \n",
       "3         0         0         0         0         0  \n",
       "4         0         0         0         0         0  \n",
       "\n",
       "[5 rows x 785 columns]"
      ]
     },
     "execution_count": 3,
     "metadata": {
      "tags": []
     },
     "output_type": "execute_result"
    }
   ],
   "source": [
    "df.head()"
   ]
  },
  {
   "cell_type": "markdown",
   "metadata": {
    "id": "6E4tYG5LsUeS"
   },
   "source": [
    "* **Dividing the Dataset into X and Y**                                                 \n",
    "Converting y label to categorical variable that is doing one hot encoding of the labels.\n",
    "* 0 = [1,0,0,0,0,0,0,0,0,0]\n",
    "* 1 = [0,1,0,0,0,0,0,0,0,0]\n",
    "* 2 = [0,0,1,0,0,0,0,0,0,0]\n",
    "and so on till 9[](http://)"
   ]
  },
  {
   "cell_type": "code",
   "execution_count": null,
   "metadata": {
    "id": "Aw7gw4VmsUeT"
   },
   "outputs": [],
   "source": [
    "x = df.drop('label',1)\n",
    "y = df['label']\n",
    "y = to_categorical(y)"
   ]
  },
  {
   "cell_type": "markdown",
   "metadata": {
    "id": "XKBn2leksUeV"
   },
   "source": [
    "**Normalizing the data so that processing becomes fast**"
   ]
  },
  {
   "cell_type": "code",
   "execution_count": null,
   "metadata": {
    "id": "PchN4bLnsUeW"
   },
   "outputs": [],
   "source": [
    "x = x/255.0"
   ]
  },
  {
   "cell_type": "code",
   "execution_count": null,
   "metadata": {
    "id": "oGyfBg5VsUeZ"
   },
   "outputs": [],
   "source": [
    "x = x.values.reshape(42000,28,28,1)"
   ]
  },
  {
   "cell_type": "code",
   "execution_count": null,
   "metadata": {
    "id": "_Lp9GDMIsUec",
    "outputId": "9fb8ebe7-810d-4187-eb42-c57e9e309250"
   },
   "outputs": [
    {
     "data": {
      "text/plain": [
       "(42000, 28, 28, 1)"
      ]
     },
     "execution_count": 7,
     "metadata": {
      "tags": []
     },
     "output_type": "execute_result"
    }
   ],
   "source": [
    "x.shape"
   ]
  },
  {
   "cell_type": "markdown",
   "metadata": {
    "id": "FQGLS7ICsUee"
   },
   "source": [
    "**Displaying the image of the data.**"
   ]
  },
  {
   "cell_type": "code",
   "execution_count": null,
   "metadata": {
    "id": "dTtny2QesUef",
    "outputId": "679cc2f9-227c-43b4-f006-0dfba595ba7b"
   },
   "outputs": [
    {
     "data": {
      "text/plain": [
       "<matplotlib.image.AxesImage at 0x7f4f8c91c748>"
      ]
     },
     "execution_count": 8,
     "metadata": {
      "tags": []
     },
     "output_type": "execute_result"
    },
    {
     "data": {
      "image/png": "[encoded data removed]",
      "text/plain": [
       "<Figure size 432x288 with 1 Axes>"
      ]
     },
     "metadata": {
      "needs_background": "light",
      "tags": []
     },
     "output_type": "display_data"
    }
   ],
   "source": [
    "plt.imshow(x[3].reshape(28,28),cmap = 'gray')"
   ]
  },
  {
   "cell_type": "markdown",
   "metadata": {
    "id": "6LnUPtL8sUei"
   },
   "source": [
    "Defining the model now\n",
    "1. First Layer is a convolution layer with 32 neurons and having a kernel size of (5,5). The padding is kept same which means we are not reducing the dimensions of the image after convolution. Convolution layer will extract features from the images and help it generalize in order to train the neural netwrok and find optimal values for the kernels. Padding will add an additional layer of zeros on all the sides of the image. This convolution layer is followed by the maxpooling layer. We add maxpooling layer for 2 reasons. First is to reduce the dimensions of the image so that processing becomes faster. Secondly to remove the spartiality from the image which is obtained after the convolution layer.\n",
    "\n",
    "2. Second layer is same as first layer\n",
    "3. Third and forth layer have Convolution layer with 64 neurons each and kernel size of (3,3) and activation function of relu with padding parameter as same followed by maxpooling layer.\n",
    "4. Then we flatten the output from convolution layer which is fed to the dense connected layers having 256 neurons and relu activation function followed by a dropout layer of 20% deactivation of neurons.\n",
    "5. Finally we have the output layer having 10 neurons because those are the number of classes in our y label which uses a softmax function which gives the probability of a particular input belonging to the particular y class."
   ]
  },
  {
   "cell_type": "code",
   "execution_count": null,
   "metadata": {
    "id": "yrdmf8ausUej"
   },
   "outputs": [],
   "source": [
    "model1 = Sequential()\n",
    "model1.add(Convolution2D(32,(5,5),activation='relu',input_shape = (28,28,1),padding='same'))\n",
    "model1.add(MaxPooling2D(2,2))\n",
    "model1.add(Convolution2D(32,(5,5),activation='relu',padding='same'))\n",
    "model1.add(MaxPooling2D(2,2))\n",
    "model1.add(Convolution2D(64,(3,3),activation='relu',padding = 'same'))\n",
    "model1.add(MaxPooling2D(2,2))\n",
    "model1.add(Convolution2D(64,(3,3),activation = 'relu',padding = 'same'))\n",
    "model1.add(Flatten())\n",
    "model1.add(Dense(256,activation='relu'))\n",
    "model1.add(Dropout(0.2))\n",
    "model1.add(Dense(10,activation = 'softmax'))"
   ]
  },
  {
   "cell_type": "code",
   "execution_count": null,
   "metadata": {
    "id": "3XYceIjDsUem"
   },
   "outputs": [],
   "source": [
    "model1.compile(optimizer='adam',loss = 'categorical_crossentropy',metrics = ['accuracy'])"
   ]
  },
  {
   "cell_type": "code",
   "execution_count": null,
   "metadata": {
    "id": "FYTfB5kLsUeo",
    "outputId": "807f8dfc-54a7-42d1-aea8-1fc84adff329"
   },
   "outputs": [
    {
     "name": "stdout",
     "output_type": "stream",
     "text": [
      "_________________________________________________________________\n",
      "Layer (type)                 Output Shape              Param #   \n",
      "=================================================================\n",
      "conv2d_1 (Conv2D)            (None, 28, 28, 32)        832       \n",
      "_________________________________________________________________\n",
      "max_pooling2d_1 (MaxPooling2 (None, 14, 14, 32)        0         \n",
      "_________________________________________________________________\n",
      "conv2d_2 (Conv2D)            (None, 14, 14, 32)        25632     \n",
      "_________________________________________________________________\n",
      "max_pooling2d_2 (MaxPooling2 (None, 7, 7, 32)          0         \n",
      "_________________________________________________________________\n",
      "conv2d_3 (Conv2D)            (None, 7, 7, 64)          18496     \n",
      "_________________________________________________________________\n",
      "max_pooling2d_3 (MaxPooling2 (None, 3, 3, 64)          0         \n",
      "_________________________________________________________________\n",
      "conv2d_4 (Conv2D)            (None, 3, 3, 64)          36928     \n",
      "_________________________________________________________________\n",
      "flatten_1 (Flatten)          (None, 576)               0         \n",
      "_________________________________________________________________\n",
      "dense_1 (Dense)              (None, 256)               147712    \n",
      "_________________________________________________________________\n",
      "dropout_1 (Dropout)          (None, 256)               0         \n",
      "_________________________________________________________________\n",
      "dense_2 (Dense)              (None, 10)                2570      \n",
      "=================================================================\n",
      "Total params: 232,170\n",
      "Trainable params: 232,170\n",
      "Non-trainable params: 0\n",
      "_________________________________________________________________\n"
     ]
    }
   ],
   "source": [
    "model1.summary()"
   ]
  },
  {
   "cell_type": "code",
   "execution_count": null,
   "metadata": {
    "id": "5oTXurR5sUer",
    "outputId": "bf9127d8-4686-488e-da7a-1274d9b0c2a0"
   },
   "outputs": [
    {
     "name": "stdout",
     "output_type": "stream",
     "text": [
      "Train on 37800 samples, validate on 4200 samples\n",
      "Epoch 1/10\n",
      "37800/37800 [==============================] - 11s 302us/step - loss: 0.1911 - acc: 0.9383 - val_loss: 0.0732 - val_acc: 0.9767\n",
      "Epoch 2/10\n",
      "37800/37800 [==============================] - 8s 209us/step - loss: 0.0570 - acc: 0.9826 - val_loss: 0.0437 - val_acc: 0.9862\n",
      "Epoch 3/10\n",
      "37800/37800 [==============================] - 8s 209us/step - loss: 0.0432 - acc: 0.9866 - val_loss: 0.0388 - val_acc: 0.9876\n",
      "Epoch 4/10\n",
      "37800/37800 [==============================] - 8s 212us/step - loss: 0.0326 - acc: 0.9901 - val_loss: 0.0509 - val_acc: 0.9848\n",
      "Epoch 5/10\n",
      "37800/37800 [==============================] - 8s 209us/step - loss: 0.0274 - acc: 0.9915 - val_loss: 0.0371 - val_acc: 0.9895\n",
      "Epoch 6/10\n",
      "37800/37800 [==============================] - 8s 209us/step - loss: 0.0236 - acc: 0.9926 - val_loss: 0.0294 - val_acc: 0.9910\n",
      "Epoch 7/10\n",
      "37800/37800 [==============================] - 8s 208us/step - loss: 0.0191 - acc: 0.9944 - val_loss: 0.0417 - val_acc: 0.9890\n",
      "Epoch 8/10\n",
      "37800/37800 [==============================] - 8s 214us/step - loss: 0.0180 - acc: 0.9940 - val_loss: 0.0431 - val_acc: 0.9890\n",
      "Epoch 9/10\n",
      "37800/37800 [==============================] - 8s 212us/step - loss: 0.0169 - acc: 0.9949 - val_loss: 0.0320 - val_acc: 0.9898\n",
      "Epoch 10/10\n",
      "37800/37800 [==============================] - 8s 208us/step - loss: 0.0139 - acc: 0.9957 - val_loss: 0.0488 - val_acc: 0.9888\n"
     ]
    }
   ],
   "source": [
    "history = model1.fit(x,y,batch_size=32,epochs=10,validation_split=0.1)"
   ]
  },
  {
   "cell_type": "code",
   "execution_count": null,
   "metadata": {
    "id": "beVAdEDysUeu"
   },
   "outputs": [],
   "source": [
    "values = history.history\n",
    "validation_acc = values['val_acc']\n",
    "training_acc = values['acc']\n",
    "validation_loss = values['val_loss']\n",
    "training_loss = values['loss']\n",
    "epochs = range(10)"
   ]
  },
  {
   "cell_type": "markdown",
   "metadata": {
    "id": "EZh64RF6sUex"
   },
   "source": [
    "Here we plot as graph between Training and Validation Accuracy"
   ]
  },
  {
   "cell_type": "code",
   "execution_count": null,
   "metadata": {
    "id": "qNhkKquzsUey",
    "outputId": "4b2edee9-a130-409f-bace-7a8fb7e9ee35"
   },
   "outputs": [
    {
     "data": {
      "image/png": "[encoded data removed]",
      "text/plain": [
       "<Figure size 432x288 with 1 Axes>"
      ]
     },
     "metadata": {
      "needs_background": "light",
      "tags": []
     },
     "output_type": "display_data"
    }
   ],
   "source": [
    "plt.plot(epochs,validation_acc,label = 'Validation Accuracy')\n",
    "plt.plot(epochs,training_acc,label = 'Training Accuracy')\n",
    "plt.xlabel('Epochs')\n",
    "plt.ylabel('Accuracy')\n",
    "plt.legend()\n",
    "plt.show()"
   ]
  },
  {
   "cell_type": "markdown",
   "metadata": {
    "id": "ZO-NF5OmsUe1"
   },
   "source": [
    "Here we plot as graph between Training and Validation Loss"
   ]
  },
  {
   "cell_type": "code",
   "execution_count": null,
   "metadata": {
    "id": "_20r6aiosUe4",
    "outputId": "1de8cf45-9a22-4d59-db0f-708b051883b7"
   },
   "outputs": [
    {
     "data": {
      "image/png": "[encoded data removed]",
      "text/plain": [
       "<Figure size 432x288 with 1 Axes>"
      ]
     },
     "metadata": {
      "needs_background": "light",
      "tags": []
     },
     "output_type": "display_data"
    }
   ],
   "source": [
    "plt.plot(epochs,validation_loss,label = 'Validation Loss')\n",
    "plt.plot(epochs,training_loss,label = 'Training Loss')\n",
    "plt.xlabel('Epochs')\n",
    "plt.ylabel('Loss')\n",
    "plt.legend()\n",
    "plt.show()"
   ]
  },
  {
   "cell_type": "markdown",
   "metadata": {
    "id": "3XOBi1dJsUe8"
   },
   "source": [
    "## Second Model"
   ]
  },
  {
   "cell_type": "code",
   "execution_count": null,
   "metadata": {
    "id": "tzp1QruXsUe9"
   },
   "outputs": [],
   "source": [
    "model2 = Sequential()\n",
    "model2.add(Convolution2D(32,(3,3),activation='relu',input_shape = (28,28,1)))\n",
    "model2.add(Convolution2D(32,(3,3),activation='relu'))\n",
    "model2.add(Convolution2D(64,(3,3),activation='relu'))\n",
    "model2.add(Convolution2D(64,(3,3),activation = 'relu'))\n",
    "model2.add(Flatten())\n",
    "model2.add(Dense(256,activation='relu'))\n",
    "model2.add(Dropout(0.2))\n",
    "model2.add(Dense(10,activation = 'softmax'))"
   ]
  },
  {
   "cell_type": "code",
   "execution_count": null,
   "metadata": {
    "id": "YaB8F-_ysUfA"
   },
   "outputs": [],
   "source": [
    "model2.compile(optimizer='adam',loss = 'categorical_crossentropy',metrics = ['accuracy'])"
   ]
  },
  {
   "cell_type": "code",
   "execution_count": null,
   "metadata": {
    "id": "3R74ADipsUfC",
    "outputId": "2adeaf3b-ee6c-4ce3-bcec-63f878dc3ca8"
   },
   "outputs": [
    {
     "name": "stdout",
     "output_type": "stream",
     "text": [
      "_________________________________________________________________\n",
      "Layer (type)                 Output Shape              Param #   \n",
      "=================================================================\n",
      "conv2d_5 (Conv2D)            (None, 26, 26, 32)        320       \n",
      "_________________________________________________________________\n",
      "conv2d_6 (Conv2D)            (None, 24, 24, 32)        9248      \n",
      "_________________________________________________________________\n",
      "conv2d_7 (Conv2D)            (None, 22, 22, 64)        18496     \n",
      "_________________________________________________________________\n",
      "conv2d_8 (Conv2D)            (None, 20, 20, 64)        36928     \n",
      "_________________________________________________________________\n",
      "flatten_2 (Flatten)          (None, 25600)             0         \n",
      "_________________________________________________________________\n",
      "dense_3 (Dense)              (None, 256)               6553856   \n",
      "_________________________________________________________________\n",
      "dropout_2 (Dropout)          (None, 256)               0         \n",
      "_________________________________________________________________\n",
      "dense_4 (Dense)              (None, 10)                2570      \n",
      "=================================================================\n",
      "Total params: 6,621,418\n",
      "Trainable params: 6,621,418\n",
      "Non-trainable params: 0\n",
      "_________________________________________________________________\n"
     ]
    }
   ],
   "source": [
    "model2.summary()"
   ]
  },
  {
   "cell_type": "code",
   "execution_count": null,
   "metadata": {
    "id": "DdUQNy0OsUfF",
    "outputId": "ad14a0c3-60b9-4c38-aaf7-c1fe82ee0419"
   },
   "outputs": [
    {
     "name": "stdout",
     "output_type": "stream",
     "text": [
      "Train on 37800 samples, validate on 4200 samples\n",
      "Epoch 1/10\n",
      "37800/37800 [==============================] - 12s 311us/step - loss: 0.1354 - acc: 0.9588 - val_loss: 0.0492 - val_acc: 0.9831\n",
      "Epoch 2/10\n",
      "37800/37800 [==============================] - 11s 282us/step - loss: 0.0467 - acc: 0.9849 - val_loss: 0.0365 - val_acc: 0.9876\n",
      "Epoch 3/10\n",
      "37800/37800 [==============================] - 11s 280us/step - loss: 0.0304 - acc: 0.9907 - val_loss: 0.0394 - val_acc: 0.9874\n",
      "Epoch 4/10\n",
      "37800/37800 [==============================] - 11s 281us/step - loss: 0.0217 - acc: 0.9925 - val_loss: 0.0406 - val_acc: 0.9893\n",
      "Epoch 5/10\n",
      "37800/37800 [==============================] - 11s 282us/step - loss: 0.0171 - acc: 0.9943 - val_loss: 0.0374 - val_acc: 0.9881\n",
      "Epoch 6/10\n",
      "37800/37800 [==============================] - 11s 281us/step - loss: 0.0150 - acc: 0.9955 - val_loss: 0.0352 - val_acc: 0.9917\n",
      "Epoch 7/10\n",
      "37800/37800 [==============================] - 11s 282us/step - loss: 0.0102 - acc: 0.9964 - val_loss: 0.0555 - val_acc: 0.9862\n",
      "Epoch 8/10\n",
      "37800/37800 [==============================] - 11s 282us/step - loss: 0.0101 - acc: 0.9971 - val_loss: 0.0384 - val_acc: 0.9902\n",
      "Epoch 9/10\n",
      "37800/37800 [==============================] - 11s 282us/step - loss: 0.0093 - acc: 0.9972 - val_loss: 0.0341 - val_acc: 0.9907\n",
      "Epoch 10/10\n",
      "37800/37800 [==============================] - 11s 281us/step - loss: 0.0067 - acc: 0.9981 - val_loss: 0.0530 - val_acc: 0.9912\n"
     ]
    }
   ],
   "source": [
    "history = model2.fit(x,y,batch_size=32,epochs=10,validation_split=0.1)"
   ]
  },
  {
   "cell_type": "code",
   "execution_count": null,
   "metadata": {
    "id": "bfBq8U9XsUfH"
   },
   "outputs": [],
   "source": [
    "values = history.history\n",
    "validation_acc = values['val_acc']\n",
    "training_acc = values['acc']\n",
    "validation_loss = values['val_loss']\n",
    "training_loss = values['loss']\n",
    "epochs = range(10)"
   ]
  },
  {
   "cell_type": "code",
   "execution_count": null,
   "metadata": {
    "id": "cgva89r9sUfK",
    "outputId": "6d86b3f0-417d-45b9-aa0f-dacc21aed886"
   },
   "outputs": [
    {
     "data": {
      "image/png": "[encoded data removed]",
      "text/plain": [
       "<Figure size 432x288 with 1 Axes>"
      ]
     },
     "metadata": {
      "needs_background": "light",
      "tags": []
     },
     "output_type": "display_data"
    }
   ],
   "source": [
    "plt.plot(epochs,validation_acc,label = 'Validation Accuracy')\n",
    "plt.plot(epochs,training_acc,label = 'Training Accuracy')\n",
    "plt.xlabel('Epochs')\n",
    "plt.ylabel('Accuracy')\n",
    "plt.legend()\n",
    "plt.show()"
   ]
  },
  {
   "cell_type": "code",
   "execution_count": null,
   "metadata": {
    "id": "NjrvZUktsUfM",
    "outputId": "218a1cd1-9bd1-4f0c-c28f-30e90bc3abc7"
   },
   "outputs": [
    {
     "data": {
      "image/png": "[encoded data removed]",
      "text/plain": [
       "<Figure size 432x288 with 1 Axes>"
      ]
     },
     "metadata": {
      "needs_background": "light",
      "tags": []
     },
     "output_type": "display_data"
    }
   ],
   "source": [
    "plt.plot(epochs,validation_loss,label = 'Validation Loss')\n",
    "plt.plot(epochs,training_loss,label = 'Training Loss')\n",
    "plt.xlabel('Epochs')\n",
    "plt.ylabel('Loss')\n",
    "plt.legend()\n",
    "plt.show()"
   ]
  },
  {
   "cell_type": "markdown",
   "metadata": {
    "id": "RcawosZosUfR"
   },
   "source": [
    "## Third Model"
   ]
  },
  {
   "cell_type": "code",
   "execution_count": null,
   "metadata": {
    "id": "PgCiSN7rsUfS"
   },
   "outputs": [],
   "source": [
    "model3 = Sequential()\n",
    "model3.add(Convolution2D(32,(3,3),activation='relu',input_shape = (28,28,1)))\n",
    "model3.add(MaxPooling2D(2,2))\n",
    "model3.add(Convolution2D(64,(3,3),activation='relu'))\n",
    "model3.add(Flatten())\n",
    "model3.add(Dense(128,activation='relu'))\n",
    "model3.add(Dropout(0.2))\n",
    "model3.add(Dense(10,activation = 'softmax'))"
   ]
  },
  {
   "cell_type": "code",
   "execution_count": null,
   "metadata": {
    "id": "uDvX3vMPsUfW"
   },
   "outputs": [],
   "source": [
    "model3.compile(optimizer='adam',loss = 'categorical_crossentropy',metrics = ['accuracy'])"
   ]
  },
  {
   "cell_type": "code",
   "execution_count": null,
   "metadata": {
    "id": "fEdbpimlsUfa",
    "outputId": "9260cf14-c63a-41c6-958f-fef8faa09ccb"
   },
   "outputs": [
    {
     "name": "stdout",
     "output_type": "stream",
     "text": [
      "_________________________________________________________________\n",
      "Layer (type)                 Output Shape              Param #   \n",
      "=================================================================\n",
      "conv2d_9 (Conv2D)            (None, 26, 26, 32)        320       \n",
      "_________________________________________________________________\n",
      "max_pooling2d_4 (MaxPooling2 (None, 13, 13, 32)        0         \n",
      "_________________________________________________________________\n",
      "conv2d_10 (Conv2D)           (None, 11, 11, 64)        18496     \n",
      "_________________________________________________________________\n",
      "flatten_3 (Flatten)          (None, 7744)              0         \n",
      "_________________________________________________________________\n",
      "dense_5 (Dense)              (None, 128)               991360    \n",
      "_________________________________________________________________\n",
      "dropout_3 (Dropout)          (None, 128)               0         \n",
      "_________________________________________________________________\n",
      "dense_6 (Dense)              (None, 10)                1290      \n",
      "=================================================================\n",
      "Total params: 1,011,466\n",
      "Trainable params: 1,011,466\n",
      "Non-trainable params: 0\n",
      "_________________________________________________________________\n"
     ]
    }
   ],
   "source": [
    "model3.summary()"
   ]
  },
  {
   "cell_type": "code",
   "execution_count": null,
   "metadata": {
    "id": "hkzkyYANsUfd",
    "outputId": "6b2473d1-90c1-4523-d40a-bd0f7b0298d7"
   },
   "outputs": [
    {
     "name": "stdout",
     "output_type": "stream",
     "text": [
      "Train on 37800 samples, validate on 4200 samples\n",
      "Epoch 1/10\n",
      "37800/37800 [==============================] - 8s 201us/step - loss: 0.1605 - acc: 0.9499 - val_loss: 0.0502 - val_acc: 0.9826\n",
      "Epoch 2/10\n",
      "37800/37800 [==============================] - 7s 184us/step - loss: 0.0523 - acc: 0.9840 - val_loss: 0.0473 - val_acc: 0.9855\n",
      "Epoch 3/10\n",
      "37800/37800 [==============================] - 7s 186us/step - loss: 0.0358 - acc: 0.9886 - val_loss: 0.0519 - val_acc: 0.9845\n",
      "Epoch 4/10\n",
      "37800/37800 [==============================] - 7s 185us/step - loss: 0.0272 - acc: 0.9912 - val_loss: 0.0385 - val_acc: 0.9890\n",
      "Epoch 5/10\n",
      "37800/37800 [==============================] - 7s 183us/step - loss: 0.0206 - acc: 0.9933 - val_loss: 0.0392 - val_acc: 0.9890\n",
      "Epoch 6/10\n",
      "37800/37800 [==============================] - 7s 184us/step - loss: 0.0166 - acc: 0.9945 - val_loss: 0.0389 - val_acc: 0.9895\n",
      "Epoch 7/10\n",
      "37800/37800 [==============================] - 7s 184us/step - loss: 0.0143 - acc: 0.9949 - val_loss: 0.0445 - val_acc: 0.9900\n",
      "Epoch 8/10\n",
      "37800/37800 [==============================] - 7s 186us/step - loss: 0.0113 - acc: 0.9962 - val_loss: 0.0471 - val_acc: 0.9874\n",
      "Epoch 9/10\n",
      "37800/37800 [==============================] - 7s 185us/step - loss: 0.0094 - acc: 0.9966 - val_loss: 0.0432 - val_acc: 0.9902\n",
      "Epoch 10/10\n",
      "37800/37800 [==============================] - 7s 184us/step - loss: 0.0079 - acc: 0.9975 - val_loss: 0.0447 - val_acc: 0.9902\n"
     ]
    }
   ],
   "source": [
    "history = model3.fit(x,y,batch_size=32,epochs=10,validation_split=0.1)"
   ]
  },
  {
   "cell_type": "code",
   "execution_count": null,
   "metadata": {
    "id": "1-envlEksUfg"
   },
   "outputs": [],
   "source": [
    "values = history.history\n",
    "validation_acc = values['val_acc']\n",
    "training_acc = values['acc']\n",
    "validation_loss = values['val_loss']\n",
    "training_loss = values['loss']\n",
    "epochs = range(10)"
   ]
  },
  {
   "cell_type": "code",
   "execution_count": null,
   "metadata": {
    "id": "ffrisnkTsUfi",
    "outputId": "e6d8451a-47a7-402b-d346-6bec3ac1ca4a"
   },
   "outputs": [
    {
     "data": {
      "image/png": "[encoded data removed]",
      "text/plain": [
       "<Figure size 432x288 with 1 Axes>"
      ]
     },
     "metadata": {
      "needs_background": "light",
      "tags": []
     },
     "output_type": "display_data"
    }
   ],
   "source": [
    "plt.plot(epochs,validation_acc,label = 'Validation Accuracy')\n",
    "plt.plot(epochs,training_acc,label = 'Training Accuracy')\n",
    "plt.xlabel('Epochs')\n",
    "plt.ylabel('Accuracy')\n",
    "plt.legend()\n",
    "plt.show()"
   ]
  },
  {
   "cell_type": "code",
   "execution_count": null,
   "metadata": {
    "id": "T8LOSYOXsUfk",
    "outputId": "5db559c0-fa48-4c5f-a9b9-e1250f6fe949"
   },
   "outputs": [
    {
     "data": {
      "image/png": "[encoded data removed]",
      "text/plain": [
       "<Figure size 432x288 with 1 Axes>"
      ]
     },
     "metadata": {
      "needs_background": "light",
      "tags": []
     },
     "output_type": "display_data"
    }
   ],
   "source": [
    "plt.plot(epochs,validation_loss,label = 'Validation Loss')\n",
    "plt.plot(epochs,training_loss,label = 'Training Loss')\n",
    "plt.xlabel('Epochs')\n",
    "plt.ylabel('Loss')\n",
    "plt.legend()\n",
    "plt.show()"
   ]
  },
  {
   "cell_type": "markdown",
   "metadata": {
    "id": "dGPBhuP7sUfo"
   },
   "source": [
    "## Fourth Model"
   ]
  },
  {
   "cell_type": "code",
   "execution_count": null,
   "metadata": {
    "id": "NjwJTh9YsUfp"
   },
   "outputs": [],
   "source": [
    "model4 = Sequential()\n",
    "model4.add(Convolution2D(32,(5,5),activation='tanh',input_shape = (28,28,1),padding='same'))\n",
    "model4.add(MaxPooling2D(2,2))\n",
    "model4.add(Convolution2D(32,(5,5),activation='tanh',padding='same'))\n",
    "model4.add(MaxPooling2D(2,2))\n",
    "model4.add(Convolution2D(64,(3,3),activation='tanh',padding = 'same'))\n",
    "model4.add(MaxPooling2D(2,2))\n",
    "model4.add(Convolution2D(64,(3,3),activation = 'tanh',padding = 'same'))\n",
    "model4.add(Flatten())\n",
    "model4.add(Dense(256,activation='relu'))\n",
    "model4.add(Dropout(0.2))\n",
    "model4.add(Dense(10,activation = 'softmax'))"
   ]
  },
  {
   "cell_type": "code",
   "execution_count": null,
   "metadata": {
    "id": "Ldzyc642sUfr"
   },
   "outputs": [],
   "source": [
    "model4.compile(optimizer='adam',loss = 'categorical_crossentropy',metrics = ['accuracy'])"
   ]
  },
  {
   "cell_type": "code",
   "execution_count": null,
   "metadata": {
    "id": "GNdnLVpksUfu",
    "outputId": "6df65fa5-f4eb-496e-8cce-e381a22b08ce"
   },
   "outputs": [
    {
     "name": "stdout",
     "output_type": "stream",
     "text": [
      "_________________________________________________________________\n",
      "Layer (type)                 Output Shape              Param #   \n",
      "=================================================================\n",
      "conv2d_11 (Conv2D)           (None, 28, 28, 32)        832       \n",
      "_________________________________________________________________\n",
      "max_pooling2d_5 (MaxPooling2 (None, 14, 14, 32)        0         \n",
      "_________________________________________________________________\n",
      "conv2d_12 (Conv2D)           (None, 14, 14, 32)        25632     \n",
      "_________________________________________________________________\n",
      "max_pooling2d_6 (MaxPooling2 (None, 7, 7, 32)          0         \n",
      "_________________________________________________________________\n",
      "conv2d_13 (Conv2D)           (None, 7, 7, 64)          18496     \n",
      "_________________________________________________________________\n",
      "max_pooling2d_7 (MaxPooling2 (None, 3, 3, 64)          0         \n",
      "_________________________________________________________________\n",
      "conv2d_14 (Conv2D)           (None, 3, 3, 64)          36928     \n",
      "_________________________________________________________________\n",
      "flatten_4 (Flatten)          (None, 576)               0         \n",
      "_________________________________________________________________\n",
      "dense_7 (Dense)              (None, 256)               147712    \n",
      "_________________________________________________________________\n",
      "dropout_4 (Dropout)          (None, 256)               0         \n",
      "_________________________________________________________________\n",
      "dense_8 (Dense)              (None, 10)                2570      \n",
      "=================================================================\n",
      "Total params: 232,170\n",
      "Trainable params: 232,170\n",
      "Non-trainable params: 0\n",
      "_________________________________________________________________\n"
     ]
    }
   ],
   "source": [
    "model4.summary()"
   ]
  },
  {
   "cell_type": "code",
   "execution_count": null,
   "metadata": {
    "id": "JTVV0RlCsUfw",
    "outputId": "e8c111fb-5814-4091-9d62-a89bdbb43e11"
   },
   "outputs": [
    {
     "name": "stdout",
     "output_type": "stream",
     "text": [
      "Train on 37800 samples, validate on 4200 samples\n",
      "Epoch 1/10\n",
      "37800/37800 [==============================] - 9s 229us/step - loss: 0.1773 - acc: 0.9431 - val_loss: 0.0766 - val_acc: 0.9767\n",
      "Epoch 2/10\n",
      "37800/37800 [==============================] - 8s 211us/step - loss: 0.0702 - acc: 0.9787 - val_loss: 0.0509 - val_acc: 0.9819\n",
      "Epoch 3/10\n",
      "37800/37800 [==============================] - 8s 208us/step - loss: 0.0541 - acc: 0.9836 - val_loss: 0.0687 - val_acc: 0.9786\n",
      "Epoch 4/10\n",
      "37800/37800 [==============================] - 8s 208us/step - loss: 0.0467 - acc: 0.9864 - val_loss: 0.0614 - val_acc: 0.9843\n",
      "Epoch 5/10\n",
      "37800/37800 [==============================] - 8s 207us/step - loss: 0.0408 - acc: 0.9870 - val_loss: 0.0401 - val_acc: 0.9879\n",
      "Epoch 6/10\n",
      "37800/37800 [==============================] - 8s 221us/step - loss: 0.0323 - acc: 0.9905 - val_loss: 0.0668 - val_acc: 0.9812\n",
      "Epoch 7/10\n",
      "37800/37800 [==============================] - 8s 211us/step - loss: 0.0362 - acc: 0.9900 - val_loss: 0.0480 - val_acc: 0.9840\n",
      "Epoch 8/10\n",
      "37800/37800 [==============================] - 8s 209us/step - loss: 0.0287 - acc: 0.9916 - val_loss: 0.0533 - val_acc: 0.9867\n",
      "Epoch 9/10\n",
      "37800/37800 [==============================] - 8s 210us/step - loss: 0.0293 - acc: 0.9920 - val_loss: 0.0493 - val_acc: 0.9867\n",
      "Epoch 10/10\n",
      "37800/37800 [==============================] - 8s 208us/step - loss: 0.0250 - acc: 0.9926 - val_loss: 0.0610 - val_acc: 0.9862\n"
     ]
    }
   ],
   "source": [
    "history = model4.fit(x,y,batch_size=32,epochs=10,validation_split=0.1)"
   ]
  },
  {
   "cell_type": "code",
   "execution_count": null,
   "metadata": {
    "id": "XS4R0H1asUfy"
   },
   "outputs": [],
   "source": [
    "values = history.history\n",
    "validation_acc = values['val_acc']\n",
    "training_acc = values['acc']\n",
    "validation_loss = values['val_loss']\n",
    "training_loss = values['loss']\n",
    "epochs = range(10)"
   ]
  },
  {
   "cell_type": "code",
   "execution_count": null,
   "metadata": {
    "id": "h_-O83ZpsUf0",
    "outputId": "4438ab99-2e1e-4ac4-ef85-7cabfbf94c60"
   },
   "outputs": [
    {
     "data": {
      "image/png": "[encoded data removed]",
      "text/plain": [
       "<Figure size 432x288 with 1 Axes>"
      ]
     },
     "metadata": {
      "needs_background": "light",
      "tags": []
     },
     "output_type": "display_data"
    }
   ],
   "source": [
    "plt.plot(epochs,validation_acc,label = 'Validation Accuracy')\n",
    "plt.plot(epochs,training_acc,label = 'Training Accuracy')\n",
    "plt.xlabel('Epochs')\n",
    "plt.ylabel('Accuracy')\n",
    "plt.legend()\n",
    "plt.show()"
   ]
  },
  {
   "cell_type": "code",
   "execution_count": null,
   "metadata": {
    "id": "-muEVtDYsUf4",
    "outputId": "fec752af-f5e7-4db7-b2c6-9504ea554dcc"
   },
   "outputs": [
    {
     "data": {
      "image/png": "[encoded data removed]",
      "text/plain": [
       "<Figure size 432x288 with 1 Axes>"
      ]
     },
     "metadata": {
      "needs_background": "light",
      "tags": []
     },
     "output_type": "display_data"
    }
   ],
   "source": [
    "plt.plot(epochs,validation_loss,label = 'Validation Loss')\n",
    "plt.plot(epochs,training_loss,label = 'Training Loss')\n",
    "plt.xlabel('Epochs')\n",
    "plt.ylabel('Loss')\n",
    "plt.legend()\n",
    "plt.show()"
   ]
  },
  {
   "cell_type": "code",
   "execution_count": null,
   "metadata": {
    "id": "YGIlbnPisUf6"
   },
   "outputs": [],
   "source": [
    "plot_model(model1,to_file='model1.png',show_layer_names=True,show_shapes=True)\n",
    "plot_model(model2,to_file='model2.png',show_layer_names=True,show_shapes=True)\n",
    "plot_model(model3,to_file='model3.png',show_layer_names=True,show_shapes=True)\n",
    "plot_model(model4,to_file='model4.png',show_layer_names=True,show_shapes=True)"
   ]
  },
  {
   "cell_type": "code",
   "execution_count": null,
   "metadata": {
    "id": "0mTsDbaCsUf-"
   },
   "outputs": [],
   "source": [
    "test = pd.read_csv('../input/test.csv')"
   ]
  },
  {
   "cell_type": "code",
   "execution_count": null,
   "metadata": {
    "id": "8eq_3gR3sUgA",
    "outputId": "ef110c93-ff84-4978-9010-25928400411a"
   },
   "outputs": [
    {
     "data": {
      "text/html": [
       "<div>\n",
       "<style scoped>\n",
       "    .dataframe tbody tr th:only-of-type {\n",
       "        vertical-align: middle;\n",
       "    }\n",
       "\n",
       "    .dataframe tbody tr th {\n",
       "        vertical-align: top;\n",
       "    }\n",
       "\n",
       "    .dataframe thead th {\n",
       "        text-align: right;\n",
       "    }\n",
       "</style>\n",
       "<table border=\"1\" class=\"dataframe\">\n",
       "  <thead>\n",
       "    <tr style=\"text-align: right;\">\n",
       "      <th></th>\n",
       "      <th>pixel0</th>\n",
       "      <th>pixel1</th>\n",
       "      <th>pixel2</th>\n",
       "      <th>pixel3</th>\n",
       "      <th>pixel4</th>\n",
       "      <th>pixel5</th>\n",
       "      <th>pixel6</th>\n",
       "      <th>pixel7</th>\n",
       "      <th>pixel8</th>\n",
       "      <th>pixel9</th>\n",
       "      <th>...</th>\n",
       "      <th>pixel774</th>\n",
       "      <th>pixel775</th>\n",
       "      <th>pixel776</th>\n",
       "      <th>pixel777</th>\n",
       "      <th>pixel778</th>\n",
       "      <th>pixel779</th>\n",
       "      <th>pixel780</th>\n",
       "      <th>pixel781</th>\n",
       "      <th>pixel782</th>\n",
       "      <th>pixel783</th>\n",
       "    </tr>\n",
       "  </thead>\n",
       "  <tbody>\n",
       "    <tr>\n",
       "      <th>0</th>\n",
       "      <td>0</td>\n",
       "      <td>0</td>\n",
       "      <td>0</td>\n",
       "      <td>0</td>\n",
       "      <td>0</td>\n",
       "      <td>0</td>\n",
       "      <td>0</td>\n",
       "      <td>0</td>\n",
       "      <td>0</td>\n",
       "      <td>0</td>\n",
       "      <td>...</td>\n",
       "      <td>0</td>\n",
       "      <td>0</td>\n",
       "      <td>0</td>\n",
       "      <td>0</td>\n",
       "      <td>0</td>\n",
       "      <td>0</td>\n",
       "      <td>0</td>\n",
       "      <td>0</td>\n",
       "      <td>0</td>\n",
       "      <td>0</td>\n",
       "    </tr>\n",
       "    <tr>\n",
       "      <th>1</th>\n",
       "      <td>0</td>\n",
       "      <td>0</td>\n",
       "      <td>0</td>\n",
       "      <td>0</td>\n",
       "      <td>0</td>\n",
       "      <td>0</td>\n",
       "      <td>0</td>\n",
       "      <td>0</td>\n",
       "      <td>0</td>\n",
       "      <td>0</td>\n",
       "      <td>...</td>\n",
       "      <td>0</td>\n",
       "      <td>0</td>\n",
       "      <td>0</td>\n",
       "      <td>0</td>\n",
       "      <td>0</td>\n",
       "      <td>0</td>\n",
       "      <td>0</td>\n",
       "      <td>0</td>\n",
       "      <td>0</td>\n",
       "      <td>0</td>\n",
       "    </tr>\n",
       "    <tr>\n",
       "      <th>2</th>\n",
       "      <td>0</td>\n",
       "      <td>0</td>\n",
       "      <td>0</td>\n",
       "      <td>0</td>\n",
       "      <td>0</td>\n",
       "      <td>0</td>\n",
       "      <td>0</td>\n",
       "      <td>0</td>\n",
       "      <td>0</td>\n",
       "      <td>0</td>\n",
       "      <td>...</td>\n",
       "      <td>0</td>\n",
       "      <td>0</td>\n",
       "      <td>0</td>\n",
       "      <td>0</td>\n",
       "      <td>0</td>\n",
       "      <td>0</td>\n",
       "      <td>0</td>\n",
       "      <td>0</td>\n",
       "      <td>0</td>\n",
       "      <td>0</td>\n",
       "    </tr>\n",
       "    <tr>\n",
       "      <th>3</th>\n",
       "      <td>0</td>\n",
       "      <td>0</td>\n",
       "      <td>0</td>\n",
       "      <td>0</td>\n",
       "      <td>0</td>\n",
       "      <td>0</td>\n",
       "      <td>0</td>\n",
       "      <td>0</td>\n",
       "      <td>0</td>\n",
       "      <td>0</td>\n",
       "      <td>...</td>\n",
       "      <td>0</td>\n",
       "      <td>0</td>\n",
       "      <td>0</td>\n",
       "      <td>0</td>\n",
       "      <td>0</td>\n",
       "      <td>0</td>\n",
       "      <td>0</td>\n",
       "      <td>0</td>\n",
       "      <td>0</td>\n",
       "      <td>0</td>\n",
       "    </tr>\n",
       "    <tr>\n",
       "      <th>4</th>\n",
       "      <td>0</td>\n",
       "      <td>0</td>\n",
       "      <td>0</td>\n",
       "      <td>0</td>\n",
       "      <td>0</td>\n",
       "      <td>0</td>\n",
       "      <td>0</td>\n",
       "      <td>0</td>\n",
       "      <td>0</td>\n",
       "      <td>0</td>\n",
       "      <td>...</td>\n",
       "      <td>0</td>\n",
       "      <td>0</td>\n",
       "      <td>0</td>\n",
       "      <td>0</td>\n",
       "      <td>0</td>\n",
       "      <td>0</td>\n",
       "      <td>0</td>\n",
       "      <td>0</td>\n",
       "      <td>0</td>\n",
       "      <td>0</td>\n",
       "    </tr>\n",
       "  </tbody>\n",
       "</table>\n",
       "<p>5 rows × 784 columns</p>\n",
       "</div>"
      ],
      "text/plain": [
       "   pixel0  pixel1  pixel2  pixel3  pixel4  pixel5  pixel6  pixel7  pixel8  \\\n",
       "0       0       0       0       0       0       0       0       0       0   \n",
       "1       0       0       0       0       0       0       0       0       0   \n",
       "2       0       0       0       0       0       0       0       0       0   \n",
       "3       0       0       0       0       0       0       0       0       0   \n",
       "4       0       0       0       0       0       0       0       0       0   \n",
       "\n",
       "   pixel9    ...     pixel774  pixel775  pixel776  pixel777  pixel778  \\\n",
       "0       0    ...            0         0         0         0         0   \n",
       "1       0    ...            0         0         0         0         0   \n",
       "2       0    ...            0         0         0         0         0   \n",
       "3       0    ...            0         0         0         0         0   \n",
       "4       0    ...            0         0         0         0         0   \n",
       "\n",
       "   pixel779  pixel780  pixel781  pixel782  pixel783  \n",
       "0         0         0         0         0         0  \n",
       "1         0         0         0         0         0  \n",
       "2         0         0         0         0         0  \n",
       "3         0         0         0         0         0  \n",
       "4         0         0         0         0         0  \n",
       "\n",
       "[5 rows x 784 columns]"
      ]
     },
     "execution_count": 39,
     "metadata": {
      "tags": []
     },
     "output_type": "execute_result"
    }
   ],
   "source": [
    "test.head()"
   ]
  },
  {
   "cell_type": "code",
   "execution_count": null,
   "metadata": {
    "id": "iF17awdtsUgC"
   },
   "outputs": [],
   "source": [
    "sub = pd.read_csv('../input/sample_submission.csv')"
   ]
  },
  {
   "cell_type": "code",
   "execution_count": null,
   "metadata": {
    "id": "WlhDBilrsUgE",
    "outputId": "40d8ce30-6b52-44c8-e21e-dbfa293708ee"
   },
   "outputs": [
    {
     "data": {
      "text/html": [
       "<div>\n",
       "<style scoped>\n",
       "    .dataframe tbody tr th:only-of-type {\n",
       "        vertical-align: middle;\n",
       "    }\n",
       "\n",
       "    .dataframe tbody tr th {\n",
       "        vertical-align: top;\n",
       "    }\n",
       "\n",
       "    .dataframe thead th {\n",
       "        text-align: right;\n",
       "    }\n",
       "</style>\n",
       "<table border=\"1\" class=\"dataframe\">\n",
       "  <thead>\n",
       "    <tr style=\"text-align: right;\">\n",
       "      <th></th>\n",
       "      <th>ImageId</th>\n",
       "      <th>Label</th>\n",
       "    </tr>\n",
       "  </thead>\n",
       "  <tbody>\n",
       "    <tr>\n",
       "      <th>0</th>\n",
       "      <td>1</td>\n",
       "      <td>0</td>\n",
       "    </tr>\n",
       "    <tr>\n",
       "      <th>1</th>\n",
       "      <td>2</td>\n",
       "      <td>0</td>\n",
       "    </tr>\n",
       "    <tr>\n",
       "      <th>2</th>\n",
       "      <td>3</td>\n",
       "      <td>0</td>\n",
       "    </tr>\n",
       "    <tr>\n",
       "      <th>3</th>\n",
       "      <td>4</td>\n",
       "      <td>0</td>\n",
       "    </tr>\n",
       "    <tr>\n",
       "      <th>4</th>\n",
       "      <td>5</td>\n",
       "      <td>0</td>\n",
       "    </tr>\n",
       "  </tbody>\n",
       "</table>\n",
       "</div>"
      ],
      "text/plain": [
       "   ImageId  Label\n",
       "0        1      0\n",
       "1        2      0\n",
       "2        3      0\n",
       "3        4      0\n",
       "4        5      0"
      ]
     },
     "execution_count": 41,
     "metadata": {
      "tags": []
     },
     "output_type": "execute_result"
    }
   ],
   "source": [
    "sub.head()"
   ]
  },
  {
   "cell_type": "code",
   "execution_count": null,
   "metadata": {
    "id": "taW77fLhsUgJ"
   },
   "outputs": [],
   "source": [
    "test = test/255.0"
   ]
  },
  {
   "cell_type": "code",
   "execution_count": null,
   "metadata": {
    "id": "y-rSL4SmsUgL",
    "outputId": "d43fbb24-8efe-40ed-c464-cc1877d8efcd"
   },
   "outputs": [
    {
     "data": {
      "text/plain": [
       "(28000, 784)"
      ]
     },
     "execution_count": 43,
     "metadata": {
      "tags": []
     },
     "output_type": "execute_result"
    }
   ],
   "source": [
    "test.shape"
   ]
  },
  {
   "cell_type": "code",
   "execution_count": null,
   "metadata": {
    "id": "X_1_yURDsUgN"
   },
   "outputs": [],
   "source": [
    "test = test.values.reshape(28000,28,28,1)"
   ]
  },
  {
   "cell_type": "code",
   "execution_count": null,
   "metadata": {
    "id": "AkinmVc9sUgP"
   },
   "outputs": [],
   "source": [
    "predict_model1 = model1.predict_classes(test)"
   ]
  },
  {
   "cell_type": "code",
   "execution_count": null,
   "metadata": {
    "id": "dgt-hYSwsUgR"
   },
   "outputs": [],
   "source": [
    "predict_model2 = model2.predict_classes(test)"
   ]
  },
  {
   "cell_type": "code",
   "execution_count": null,
   "metadata": {
    "id": "93jrvSE9sUgT"
   },
   "outputs": [],
   "source": [
    "predict_model3 = model3.predict_classes(test)"
   ]
  },
  {
   "cell_type": "code",
   "execution_count": null,
   "metadata": {
    "id": "ywFrPJLCsUgV"
   },
   "outputs": [],
   "source": [
    "predict_model4 = model4.predict_classes(test)"
   ]
  },
  {
   "cell_type": "code",
   "execution_count": null,
   "metadata": {
    "id": "3aBA5_ySsUgY"
   },
   "outputs": [],
   "source": [
    "final_prediction = 0.25*predict_model1+0.25*predict_model2+0.25*predict_model3+0.25*predict_model4"
   ]
  },
  {
   "cell_type": "code",
   "execution_count": null,
   "metadata": {
    "id": "xiHWViqDsUgZ"
   },
   "outputs": [],
   "source": [
    "final_prediction = np.round(final_prediction)\n"
   ]
  },
  {
   "cell_type": "code",
   "execution_count": null,
   "metadata": {
    "id": "R4pcdUVAsUgb"
   },
   "outputs": [],
   "source": [
    "answer = []\n",
    "for i in range(len(final_prediction)):\n",
    "    answer.append(int(final_prediction[i]))"
   ]
  },
  {
   "cell_type": "code",
   "execution_count": null,
   "metadata": {
    "id": "2yO_9Y6YsUgd"
   },
   "outputs": [],
   "source": [
    "predict = pd.Series(answer,name=\"Label\")"
   ]
  },
  {
   "cell_type": "code",
   "execution_count": null,
   "metadata": {
    "id": "-qIugDuosUge"
   },
   "outputs": [],
   "source": [
    "submission = pd.concat([pd.Series(range(1,28001),name = \"ImageId\"),predict],axis = 1)"
   ]
  },
  {
   "cell_type": "code",
   "execution_count": null,
   "metadata": {
    "id": "LP8M91aBsUgg"
   },
   "outputs": [],
   "source": [
    "submission.to_csv(\"cnn_mnist_datagen.csv\",index=False)"
   ]
  },
  {
   "cell_type": "code",
   "execution_count": null,
   "metadata": {
    "id": "EIJ7C0fDsUgl"
   },
   "outputs": [],
   "source": [
    "predict = pd.Series(predict_model1,name=\"Label\")\n",
    "submission_1 = pd.concat([pd.Series(range(1,28001),name = \"ImageId\"),predict],axis = 1)\n",
    "submission_1.to_csv(\"submission1.csv\",index=False)"
   ]
  },
  {
   "cell_type": "code",
   "execution_count": null,
   "metadata": {
    "id": "WXKduihHsUgq"
   },
   "outputs": [],
   "source": [
    "predict = pd.Series(predict_model2,name=\"Label\")\n",
    "submission_2 = pd.concat([pd.Series(range(1,28001),name = \"ImageId\"),predict],axis = 1)\n",
    "submission_2.to_csv(\"submission2.csv\",index=False)"
   ]
  },
  {
   "cell_type": "code",
   "execution_count": null,
   "metadata": {
    "id": "R_yog7ESsUgs"
   },
   "outputs": [],
   "source": [
    "predict = pd.Series(predict_model3,name=\"Label\")\n",
    "submission_3 = pd.concat([pd.Series(range(1,28001),name = \"ImageId\"),predict],axis = 1)\n",
    "submission_3.to_csv(\"submission3.csv\",index=False)"
   ]
  },
  {
   "cell_type": "code",
   "execution_count": null,
   "metadata": {
    "id": "Kz9FsHWAsUgu"
   },
   "outputs": [],
   "source": [
    "predict = pd.Series(predict_model4,name=\"Label\")\n",
    "submission_4 = pd.concat([pd.Series(range(1,28001),name = \"ImageId\"),predict],axis = 1)\n",
    "submission_4.to_csv(\"submission4.csv\",index=False)"
   ]
  },
  {
   "cell_type": "markdown",
   "metadata": {
    "id": "BB7gWy-tsUgw"
   },
   "source": [
    "Here I have created 4 different models with different architecture in order to see which one performs better on the data. You are free to make any changes in the architecture. There is no hard and fast rule which helps you decide number of neurons or number of layers. They all are hyperparameters and different for every problem statement. A common approch is to start with number of neurons with 2^n value (8,16,32,64,128,256,512....). making your model more complex can lead to overfitting."
   ]
  }
 ],
 "metadata": {
  "colab": {
   "provenance": []
  },
  "kernelspec": {
   "display_name": "Python 3 (ipykernel)",
   "language": "python",
   "name": "python3"
  },
  "language_info": {
   "codemirror_mode": {
    "name": "ipython",
    "version": 3
   },
   "file_extension": ".py",
   "mimetype": "text/x-python",
   "name": "python",
   "nbconvert_exporter": "python",
   "pygments_lexer": "ipython3",
   "version": "3.9.12"
  }
 },
 "nbformat": 4,
 "nbformat_minor": 1
}
